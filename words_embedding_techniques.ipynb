{
  "nbformat": 4,
  "nbformat_minor": 0,
  "metadata": {
    "colab": {
      "provenance": []
    },
    "kernelspec": {
      "name": "python3",
      "display_name": "Python 3"
    },
    "language_info": {
      "name": "python"
    }
  },
  "cells": [
    {
      "cell_type": "code",
      "execution_count": null,
      "metadata": {
        "id": "BFj1tWzrYqG_"
      },
      "outputs": [],
      "source": []
    },
    {
      "cell_type": "markdown",
      "source": [
        "Word Embedding Techniques using embedding layers in keras"
      ],
      "metadata": {
        "id": "bopaGjqWaD64"
      }
    },
    {
      "cell_type": "code",
      "source": [
        "!pip install tensorflow"
      ],
      "metadata": {
        "colab": {
          "base_uri": "https://localhost:8080/"
        },
        "id": "qmK7LhBdaSaj",
        "outputId": "38c7e327-8f7a-42fe-8cd0-ed5f35ecfe89"
      },
      "execution_count": null,
      "outputs": [
        {
          "output_type": "stream",
          "name": "stdout",
          "text": [
            "Requirement already satisfied: tensorflow in /usr/local/lib/python3.10/dist-packages (2.15.0)\n",
            "Requirement already satisfied: absl-py>=1.0.0 in /usr/local/lib/python3.10/dist-packages (from tensorflow) (1.4.0)\n",
            "Requirement already satisfied: astunparse>=1.6.0 in /usr/local/lib/python3.10/dist-packages (from tensorflow) (1.6.3)\n",
            "Requirement already satisfied: flatbuffers>=23.5.26 in /usr/local/lib/python3.10/dist-packages (from tensorflow) (24.3.7)\n",
            "Requirement already satisfied: gast!=0.5.0,!=0.5.1,!=0.5.2,>=0.2.1 in /usr/local/lib/python3.10/dist-packages (from tensorflow) (0.5.4)\n",
            "Requirement already satisfied: google-pasta>=0.1.1 in /usr/local/lib/python3.10/dist-packages (from tensorflow) (0.2.0)\n",
            "Requirement already satisfied: h5py>=2.9.0 in /usr/local/lib/python3.10/dist-packages (from tensorflow) (3.9.0)\n",
            "Requirement already satisfied: libclang>=13.0.0 in /usr/local/lib/python3.10/dist-packages (from tensorflow) (18.1.1)\n",
            "Requirement already satisfied: ml-dtypes~=0.2.0 in /usr/local/lib/python3.10/dist-packages (from tensorflow) (0.2.0)\n",
            "Requirement already satisfied: numpy<2.0.0,>=1.23.5 in /usr/local/lib/python3.10/dist-packages (from tensorflow) (1.25.2)\n",
            "Requirement already satisfied: opt-einsum>=2.3.2 in /usr/local/lib/python3.10/dist-packages (from tensorflow) (3.3.0)\n",
            "Requirement already satisfied: packaging in /usr/local/lib/python3.10/dist-packages (from tensorflow) (24.0)\n",
            "Requirement already satisfied: protobuf!=4.21.0,!=4.21.1,!=4.21.2,!=4.21.3,!=4.21.4,!=4.21.5,<5.0.0dev,>=3.20.3 in /usr/local/lib/python3.10/dist-packages (from tensorflow) (3.20.3)\n",
            "Requirement already satisfied: setuptools in /usr/local/lib/python3.10/dist-packages (from tensorflow) (67.7.2)\n",
            "Requirement already satisfied: six>=1.12.0 in /usr/local/lib/python3.10/dist-packages (from tensorflow) (1.16.0)\n",
            "Requirement already satisfied: termcolor>=1.1.0 in /usr/local/lib/python3.10/dist-packages (from tensorflow) (2.4.0)\n",
            "Requirement already satisfied: typing-extensions>=3.6.6 in /usr/local/lib/python3.10/dist-packages (from tensorflow) (4.10.0)\n",
            "Requirement already satisfied: wrapt<1.15,>=1.11.0 in /usr/local/lib/python3.10/dist-packages (from tensorflow) (1.14.1)\n",
            "Requirement already satisfied: tensorflow-io-gcs-filesystem>=0.23.1 in /usr/local/lib/python3.10/dist-packages (from tensorflow) (0.36.0)\n",
            "Requirement already satisfied: grpcio<2.0,>=1.24.3 in /usr/local/lib/python3.10/dist-packages (from tensorflow) (1.62.1)\n",
            "Requirement already satisfied: tensorboard<2.16,>=2.15 in /usr/local/lib/python3.10/dist-packages (from tensorflow) (2.15.2)\n",
            "Requirement already satisfied: tensorflow-estimator<2.16,>=2.15.0 in /usr/local/lib/python3.10/dist-packages (from tensorflow) (2.15.0)\n",
            "Requirement already satisfied: keras<2.16,>=2.15.0 in /usr/local/lib/python3.10/dist-packages (from tensorflow) (2.15.0)\n",
            "Requirement already satisfied: wheel<1.0,>=0.23.0 in /usr/local/lib/python3.10/dist-packages (from astunparse>=1.6.0->tensorflow) (0.43.0)\n",
            "Requirement already satisfied: google-auth<3,>=1.6.3 in /usr/local/lib/python3.10/dist-packages (from tensorboard<2.16,>=2.15->tensorflow) (2.27.0)\n",
            "Requirement already satisfied: google-auth-oauthlib<2,>=0.5 in /usr/local/lib/python3.10/dist-packages (from tensorboard<2.16,>=2.15->tensorflow) (1.2.0)\n",
            "Requirement already satisfied: markdown>=2.6.8 in /usr/local/lib/python3.10/dist-packages (from tensorboard<2.16,>=2.15->tensorflow) (3.6)\n",
            "Requirement already satisfied: requests<3,>=2.21.0 in /usr/local/lib/python3.10/dist-packages (from tensorboard<2.16,>=2.15->tensorflow) (2.31.0)\n",
            "Requirement already satisfied: tensorboard-data-server<0.8.0,>=0.7.0 in /usr/local/lib/python3.10/dist-packages (from tensorboard<2.16,>=2.15->tensorflow) (0.7.2)\n",
            "Requirement already satisfied: werkzeug>=1.0.1 in /usr/local/lib/python3.10/dist-packages (from tensorboard<2.16,>=2.15->tensorflow) (3.0.1)\n",
            "Requirement already satisfied: cachetools<6.0,>=2.0.0 in /usr/local/lib/python3.10/dist-packages (from google-auth<3,>=1.6.3->tensorboard<2.16,>=2.15->tensorflow) (5.3.3)\n",
            "Requirement already satisfied: pyasn1-modules>=0.2.1 in /usr/local/lib/python3.10/dist-packages (from google-auth<3,>=1.6.3->tensorboard<2.16,>=2.15->tensorflow) (0.3.0)\n",
            "Requirement already satisfied: rsa<5,>=3.1.4 in /usr/local/lib/python3.10/dist-packages (from google-auth<3,>=1.6.3->tensorboard<2.16,>=2.15->tensorflow) (4.9)\n",
            "Requirement already satisfied: requests-oauthlib>=0.7.0 in /usr/local/lib/python3.10/dist-packages (from google-auth-oauthlib<2,>=0.5->tensorboard<2.16,>=2.15->tensorflow) (1.4.0)\n",
            "Requirement already satisfied: charset-normalizer<4,>=2 in /usr/local/lib/python3.10/dist-packages (from requests<3,>=2.21.0->tensorboard<2.16,>=2.15->tensorflow) (3.3.2)\n",
            "Requirement already satisfied: idna<4,>=2.5 in /usr/local/lib/python3.10/dist-packages (from requests<3,>=2.21.0->tensorboard<2.16,>=2.15->tensorflow) (3.6)\n",
            "Requirement already satisfied: urllib3<3,>=1.21.1 in /usr/local/lib/python3.10/dist-packages (from requests<3,>=2.21.0->tensorboard<2.16,>=2.15->tensorflow) (2.0.7)\n",
            "Requirement already satisfied: certifi>=2017.4.17 in /usr/local/lib/python3.10/dist-packages (from requests<3,>=2.21.0->tensorboard<2.16,>=2.15->tensorflow) (2024.2.2)\n",
            "Requirement already satisfied: MarkupSafe>=2.1.1 in /usr/local/lib/python3.10/dist-packages (from werkzeug>=1.0.1->tensorboard<2.16,>=2.15->tensorflow) (2.1.5)\n",
            "Requirement already satisfied: pyasn1<0.6.0,>=0.4.6 in /usr/local/lib/python3.10/dist-packages (from pyasn1-modules>=0.2.1->google-auth<3,>=1.6.3->tensorboard<2.16,>=2.15->tensorflow) (0.5.1)\n",
            "Requirement already satisfied: oauthlib>=3.0.0 in /usr/local/lib/python3.10/dist-packages (from requests-oauthlib>=0.7.0->google-auth-oauthlib<2,>=0.5->tensorboard<2.16,>=2.15->tensorflow) (3.2.2)\n"
          ]
        }
      ]
    },
    {
      "cell_type": "code",
      "source": [
        "!pip install keras\n"
      ],
      "metadata": {
        "colab": {
          "base_uri": "https://localhost:8080/"
        },
        "id": "-0n2IsbKbFLI",
        "outputId": "4e3f9b74-ec3d-4056-debe-adcf2e351341"
      },
      "execution_count": null,
      "outputs": [
        {
          "output_type": "stream",
          "name": "stdout",
          "text": [
            "Requirement already satisfied: keras in /usr/local/lib/python3.10/dist-packages (2.15.0)\n"
          ]
        }
      ]
    },
    {
      "cell_type": "code",
      "source": [
        "from tensorflow.keras.preprocessing.text import one_hot"
      ],
      "metadata": {
        "id": "_vPK7nd-by4r"
      },
      "execution_count": null,
      "outputs": []
    },
    {
      "cell_type": "code",
      "source": [
        "### sentences\n",
        "sent=[  'the glass of milk',\n",
        "     'the glass of juice',\n",
        "     'the cup of tea',\n",
        "    'I am a good boy',\n",
        "     'I am a good developer',\n",
        "     'understand the meaning of words',\n",
        "     'your videos are good',]"
      ],
      "metadata": {
        "id": "qR8muKDfcdfq"
      },
      "execution_count": null,
      "outputs": []
    },
    {
      "cell_type": "code",
      "source": [
        "sent"
      ],
      "metadata": {
        "colab": {
          "base_uri": "https://localhost:8080/"
        },
        "id": "HRHuXczockXQ",
        "outputId": "ef842808-bd98-47c2-c230-9c7a6aba6969"
      },
      "execution_count": null,
      "outputs": [
        {
          "output_type": "execute_result",
          "data": {
            "text/plain": [
              "['the glass of milk',\n",
              " 'the glass of juice',\n",
              " 'the cup of tea',\n",
              " 'I am a good boy',\n",
              " 'I am a good developer',\n",
              " 'understand the meaning of words',\n",
              " 'your videos are good']"
            ]
          },
          "metadata": {},
          "execution_count": 8
        }
      ]
    },
    {
      "cell_type": "code",
      "source": [
        "### Vocubolary size\n",
        "voc_size=10000"
      ],
      "metadata": {
        "id": "grFYF722clRw"
      },
      "execution_count": null,
      "outputs": []
    },
    {
      "cell_type": "markdown",
      "source": [
        "One Hot Representation"
      ],
      "metadata": {
        "id": "Re2mzgaIcv72"
      }
    },
    {
      "cell_type": "code",
      "source": [
        "onehot_repr=[one_hot(words,voc_size)for words in sent]"
      ],
      "metadata": {
        "id": "m4YmHburct9B"
      },
      "execution_count": null,
      "outputs": []
    },
    {
      "cell_type": "code",
      "source": [
        "print(onehot_repr)"
      ],
      "metadata": {
        "colab": {
          "base_uri": "https://localhost:8080/"
        },
        "id": "h2vFE6x8c_y4",
        "outputId": "1f905208-9b79-4687-c31a-5f017a9bca7b"
      },
      "execution_count": null,
      "outputs": [
        {
          "output_type": "stream",
          "name": "stdout",
          "text": [
            "[[2373, 8004, 666, 8971], [2373, 8004, 666, 6700], [2373, 7296, 666, 3109], [4409, 6630, 8833, 9469, 3200], [4409, 6630, 8833, 9469, 5003], [7811, 2373, 382, 666, 9276], [2104, 2829, 5637, 9469]]\n"
          ]
        }
      ]
    },
    {
      "cell_type": "markdown",
      "source": [
        "Word Embedding Representation"
      ],
      "metadata": {
        "id": "p-Lm8BHfdTe2"
      }
    },
    {
      "cell_type": "code",
      "source": [
        "from tensorflow.keras.layers import Embedding"
      ],
      "metadata": {
        "id": "YHrYg_t9dEDR"
      },
      "execution_count": null,
      "outputs": []
    },
    {
      "cell_type": "code",
      "source": [
        "from tensorflow.keras.preprocessing.sequence import pad_sequences\n",
        "from tensorflow.keras.models import Sequential"
      ],
      "metadata": {
        "id": "P4Y0f1i6deBI"
      },
      "execution_count": null,
      "outputs": []
    },
    {
      "cell_type": "code",
      "source": [
        "import numpy as np\n"
      ],
      "metadata": {
        "id": "A0cLuTlidvUH"
      },
      "execution_count": null,
      "outputs": []
    },
    {
      "cell_type": "code",
      "source": [
        "sent_length=8\n",
        "embedded_docs=pad_sequences(onehot_repr,padding='pre', maxlen=sent_length)\n",
        "print(embedded_docs)"
      ],
      "metadata": {
        "colab": {
          "base_uri": "https://localhost:8080/"
        },
        "id": "4CXhA2Xqd0_e",
        "outputId": "1b925da8-5853-4318-ce3b-3bdf0e037308"
      },
      "execution_count": null,
      "outputs": [
        {
          "output_type": "stream",
          "name": "stdout",
          "text": [
            "[[   0    0    0    0 2373 8004  666 8971]\n",
            " [   0    0    0    0 2373 8004  666 6700]\n",
            " [   0    0    0    0 2373 7296  666 3109]\n",
            " [   0    0    0 4409 6630 8833 9469 3200]\n",
            " [   0    0    0 4409 6630 8833 9469 5003]\n",
            " [   0    0    0 7811 2373  382  666 9276]\n",
            " [   0    0    0    0 2104 2829 5637 9469]]\n"
          ]
        }
      ]
    },
    {
      "cell_type": "code",
      "source": [
        "dim=10"
      ],
      "metadata": {
        "id": "85_kmk-CeOI9"
      },
      "execution_count": null,
      "outputs": []
    },
    {
      "cell_type": "code",
      "source": [
        "model=Sequential()\n",
        "model.add(Embedding(voc_size,10,input_length=sent_length))\n",
        "model.compile('adam', 'mse')"
      ],
      "metadata": {
        "id": "Bz-NwREMeP79"
      },
      "execution_count": null,
      "outputs": []
    },
    {
      "cell_type": "code",
      "source": [
        "model.summary()"
      ],
      "metadata": {
        "colab": {
          "base_uri": "https://localhost:8080/"
        },
        "id": "HKiwk8_1el0n",
        "outputId": "b7a5ebf4-783c-4e32-c859-8596aff617a2"
      },
      "execution_count": null,
      "outputs": [
        {
          "output_type": "stream",
          "name": "stdout",
          "text": [
            "Model: \"sequential\"\n",
            "_________________________________________________________________\n",
            " Layer (type)                Output Shape              Param #   \n",
            "=================================================================\n",
            " embedding (Embedding)       (None, 8, 10)             100000    \n",
            "                                                                 \n",
            "=================================================================\n",
            "Total params: 100000 (390.62 KB)\n",
            "Trainable params: 100000 (390.62 KB)\n",
            "Non-trainable params: 0 (0.00 Byte)\n",
            "_________________________________________________________________\n"
          ]
        }
      ]
    },
    {
      "cell_type": "code",
      "source": [
        "print(model.predict(embedded_docs))"
      ],
      "metadata": {
        "colab": {
          "base_uri": "https://localhost:8080/"
        },
        "id": "M-2XpGVHeptW",
        "outputId": "521fa0fe-5922-47e2-e2ea-b96e3eb1ee0e"
      },
      "execution_count": null,
      "outputs": [
        {
          "output_type": "stream",
          "name": "stdout",
          "text": [
            "1/1 [==============================] - 0s 124ms/step\n",
            "[[[ 0.04343951 -0.04441161 -0.00095301  0.01611929 -0.02815726\n",
            "    0.01493584 -0.04762666 -0.00304216 -0.04135424  0.0077909 ]\n",
            "  [ 0.04343951 -0.04441161 -0.00095301  0.01611929 -0.02815726\n",
            "    0.01493584 -0.04762666 -0.00304216 -0.04135424  0.0077909 ]\n",
            "  [ 0.04343951 -0.04441161 -0.00095301  0.01611929 -0.02815726\n",
            "    0.01493584 -0.04762666 -0.00304216 -0.04135424  0.0077909 ]\n",
            "  [ 0.04343951 -0.04441161 -0.00095301  0.01611929 -0.02815726\n",
            "    0.01493584 -0.04762666 -0.00304216 -0.04135424  0.0077909 ]\n",
            "  [-0.040658    0.03962423 -0.02337171  0.03919644 -0.00481651\n",
            "    0.03091986  0.00574694  0.03425269  0.02810467 -0.04578168]\n",
            "  [-0.01433998 -0.00923745  0.02676913  0.04994356  0.0237918\n",
            "    0.012671    0.00460069  0.02211826  0.02205053 -0.01058496]\n",
            "  [-0.01026317  0.01805801  0.00847073 -0.02628641  0.00089699\n",
            "   -0.00690592 -0.01349676 -0.04024022 -0.0476905   0.00981789]\n",
            "  [ 0.02906803 -0.01190741  0.02638758  0.03803441 -0.00522809\n",
            "    0.04887475  0.0154914   0.01068635  0.00923014  0.03110406]]\n",
            "\n",
            " [[ 0.04343951 -0.04441161 -0.00095301  0.01611929 -0.02815726\n",
            "    0.01493584 -0.04762666 -0.00304216 -0.04135424  0.0077909 ]\n",
            "  [ 0.04343951 -0.04441161 -0.00095301  0.01611929 -0.02815726\n",
            "    0.01493584 -0.04762666 -0.00304216 -0.04135424  0.0077909 ]\n",
            "  [ 0.04343951 -0.04441161 -0.00095301  0.01611929 -0.02815726\n",
            "    0.01493584 -0.04762666 -0.00304216 -0.04135424  0.0077909 ]\n",
            "  [ 0.04343951 -0.04441161 -0.00095301  0.01611929 -0.02815726\n",
            "    0.01493584 -0.04762666 -0.00304216 -0.04135424  0.0077909 ]\n",
            "  [-0.040658    0.03962423 -0.02337171  0.03919644 -0.00481651\n",
            "    0.03091986  0.00574694  0.03425269  0.02810467 -0.04578168]\n",
            "  [-0.01433998 -0.00923745  0.02676913  0.04994356  0.0237918\n",
            "    0.012671    0.00460069  0.02211826  0.02205053 -0.01058496]\n",
            "  [-0.01026317  0.01805801  0.00847073 -0.02628641  0.00089699\n",
            "   -0.00690592 -0.01349676 -0.04024022 -0.0476905   0.00981789]\n",
            "  [ 0.01268229 -0.00066085 -0.03559073 -0.02548987  0.04681032\n",
            "   -0.00961195  0.01609581  0.01875735 -0.04809416  0.03803485]]\n",
            "\n",
            " [[ 0.04343951 -0.04441161 -0.00095301  0.01611929 -0.02815726\n",
            "    0.01493584 -0.04762666 -0.00304216 -0.04135424  0.0077909 ]\n",
            "  [ 0.04343951 -0.04441161 -0.00095301  0.01611929 -0.02815726\n",
            "    0.01493584 -0.04762666 -0.00304216 -0.04135424  0.0077909 ]\n",
            "  [ 0.04343951 -0.04441161 -0.00095301  0.01611929 -0.02815726\n",
            "    0.01493584 -0.04762666 -0.00304216 -0.04135424  0.0077909 ]\n",
            "  [ 0.04343951 -0.04441161 -0.00095301  0.01611929 -0.02815726\n",
            "    0.01493584 -0.04762666 -0.00304216 -0.04135424  0.0077909 ]\n",
            "  [-0.040658    0.03962423 -0.02337171  0.03919644 -0.00481651\n",
            "    0.03091986  0.00574694  0.03425269  0.02810467 -0.04578168]\n",
            "  [ 0.04499879  0.02304094 -0.02571113  0.02210629 -0.04605315\n",
            "   -0.01499308 -0.01231977 -0.0126278  -0.04236552 -0.03676845]\n",
            "  [-0.01026317  0.01805801  0.00847073 -0.02628641  0.00089699\n",
            "   -0.00690592 -0.01349676 -0.04024022 -0.0476905   0.00981789]\n",
            "  [ 0.02677019  0.00093043 -0.02933495  0.02009005  0.04439764\n",
            "   -0.00101131  0.04265654 -0.02182667 -0.04335315  0.02205865]]\n",
            "\n",
            " [[ 0.04343951 -0.04441161 -0.00095301  0.01611929 -0.02815726\n",
            "    0.01493584 -0.04762666 -0.00304216 -0.04135424  0.0077909 ]\n",
            "  [ 0.04343951 -0.04441161 -0.00095301  0.01611929 -0.02815726\n",
            "    0.01493584 -0.04762666 -0.00304216 -0.04135424  0.0077909 ]\n",
            "  [ 0.04343951 -0.04441161 -0.00095301  0.01611929 -0.02815726\n",
            "    0.01493584 -0.04762666 -0.00304216 -0.04135424  0.0077909 ]\n",
            "  [-0.02560784  0.01648753 -0.0387072   0.03571588 -0.03696847\n",
            "   -0.01258679  0.01292611  0.01234465  0.02358123 -0.02167212]\n",
            "  [ 0.02949296  0.0322646  -0.00439565 -0.01043428 -0.01934012\n",
            "   -0.03724058 -0.04671756  0.01332657  0.01759401 -0.04984704]\n",
            "  [ 0.02439357  0.02495514  0.00746814 -0.01001405  0.04005994\n",
            "   -0.01175479 -0.02640843  0.04342157 -0.00445541 -0.03985388]\n",
            "  [ 0.00455643  0.02143097 -0.04103677  0.00122995  0.02602505\n",
            "    0.01246617 -0.01692737  0.03560826 -0.02538585  0.03524753]\n",
            "  [ 0.01537807 -0.02553366  0.03295379 -0.04329628 -0.03971565\n",
            "   -0.02303858  0.03684342 -0.03536548  0.00042627  0.0158619 ]]\n",
            "\n",
            " [[ 0.04343951 -0.04441161 -0.00095301  0.01611929 -0.02815726\n",
            "    0.01493584 -0.04762666 -0.00304216 -0.04135424  0.0077909 ]\n",
            "  [ 0.04343951 -0.04441161 -0.00095301  0.01611929 -0.02815726\n",
            "    0.01493584 -0.04762666 -0.00304216 -0.04135424  0.0077909 ]\n",
            "  [ 0.04343951 -0.04441161 -0.00095301  0.01611929 -0.02815726\n",
            "    0.01493584 -0.04762666 -0.00304216 -0.04135424  0.0077909 ]\n",
            "  [-0.02560784  0.01648753 -0.0387072   0.03571588 -0.03696847\n",
            "   -0.01258679  0.01292611  0.01234465  0.02358123 -0.02167212]\n",
            "  [ 0.02949296  0.0322646  -0.00439565 -0.01043428 -0.01934012\n",
            "   -0.03724058 -0.04671756  0.01332657  0.01759401 -0.04984704]\n",
            "  [ 0.02439357  0.02495514  0.00746814 -0.01001405  0.04005994\n",
            "   -0.01175479 -0.02640843  0.04342157 -0.00445541 -0.03985388]\n",
            "  [ 0.00455643  0.02143097 -0.04103677  0.00122995  0.02602505\n",
            "    0.01246617 -0.01692737  0.03560826 -0.02538585  0.03524753]\n",
            "  [-0.03994245 -0.04048569 -0.04594528  0.04974947  0.01584579\n",
            "    0.04456026 -0.04936057 -0.03099676 -0.03814631  0.02816527]]\n",
            "\n",
            " [[ 0.04343951 -0.04441161 -0.00095301  0.01611929 -0.02815726\n",
            "    0.01493584 -0.04762666 -0.00304216 -0.04135424  0.0077909 ]\n",
            "  [ 0.04343951 -0.04441161 -0.00095301  0.01611929 -0.02815726\n",
            "    0.01493584 -0.04762666 -0.00304216 -0.04135424  0.0077909 ]\n",
            "  [ 0.04343951 -0.04441161 -0.00095301  0.01611929 -0.02815726\n",
            "    0.01493584 -0.04762666 -0.00304216 -0.04135424  0.0077909 ]\n",
            "  [ 0.03626395  0.02574456 -0.02679939 -0.03504159  0.03174749\n",
            "    0.02193077  0.02992983  0.00946652  0.04552094  0.00243392]\n",
            "  [-0.040658    0.03962423 -0.02337171  0.03919644 -0.00481651\n",
            "    0.03091986  0.00574694  0.03425269  0.02810467 -0.04578168]\n",
            "  [ 0.02481902 -0.00782912  0.01017034 -0.04879587  0.00173771\n",
            "    0.00830706  0.01625529 -0.01923636  0.03385701 -0.04291642]\n",
            "  [-0.01026317  0.01805801  0.00847073 -0.02628641  0.00089699\n",
            "   -0.00690592 -0.01349676 -0.04024022 -0.0476905   0.00981789]\n",
            "  [ 0.04697103  0.03243634 -0.00851117  0.03601898  0.03902126\n",
            "   -0.04232204  0.0027468   0.0010437  -0.04668772  0.03861523]]\n",
            "\n",
            " [[ 0.04343951 -0.04441161 -0.00095301  0.01611929 -0.02815726\n",
            "    0.01493584 -0.04762666 -0.00304216 -0.04135424  0.0077909 ]\n",
            "  [ 0.04343951 -0.04441161 -0.00095301  0.01611929 -0.02815726\n",
            "    0.01493584 -0.04762666 -0.00304216 -0.04135424  0.0077909 ]\n",
            "  [ 0.04343951 -0.04441161 -0.00095301  0.01611929 -0.02815726\n",
            "    0.01493584 -0.04762666 -0.00304216 -0.04135424  0.0077909 ]\n",
            "  [ 0.04343951 -0.04441161 -0.00095301  0.01611929 -0.02815726\n",
            "    0.01493584 -0.04762666 -0.00304216 -0.04135424  0.0077909 ]\n",
            "  [-0.00037537 -0.01396348 -0.02570915 -0.0291002   0.02580841\n",
            "   -0.03556883 -0.01470793 -0.02958803  0.00935472 -0.01482111]\n",
            "  [ 0.01946997 -0.01487096  0.04231716  0.02781448  0.00968492\n",
            "    0.02293656 -0.00585297 -0.01456    -0.00959232 -0.02670475]\n",
            "  [ 0.00952488 -0.04011842  0.04334947 -0.02791253 -0.01105083\n",
            "   -0.00544875  0.02090475 -0.01669475 -0.03530005  0.02145899]\n",
            "  [ 0.00455643  0.02143097 -0.04103677  0.00122995  0.02602505\n",
            "    0.01246617 -0.01692737  0.03560826 -0.02538585  0.03524753]]]\n"
          ]
        }
      ]
    },
    {
      "cell_type": "code",
      "source": [
        "embedded_docs[0]"
      ],
      "metadata": {
        "colab": {
          "base_uri": "https://localhost:8080/"
        },
        "id": "5d-LbpaYe1zW",
        "outputId": "3390a1ed-16af-4c9b-9ec6-efb44cf4c51d"
      },
      "execution_count": null,
      "outputs": [
        {
          "output_type": "execute_result",
          "data": {
            "text/plain": [
              "array([   0,    0,    0,    0, 2373, 8004,  666, 8971], dtype=int32)"
            ]
          },
          "metadata": {},
          "execution_count": 21
        }
      ]
    },
    {
      "cell_type": "code",
      "source": [
        "print(model.predict(embedded_docs)[0])"
      ],
      "metadata": {
        "colab": {
          "base_uri": "https://localhost:8080/"
        },
        "id": "2oTM-Sgae9TF",
        "outputId": "317efbd4-f300-45d4-952c-2578cf539444"
      },
      "execution_count": null,
      "outputs": [
        {
          "output_type": "stream",
          "name": "stdout",
          "text": [
            "1/1 [==============================] - 0s 23ms/step\n",
            "[[ 0.04343951 -0.04441161 -0.00095301  0.01611929 -0.02815726  0.01493584\n",
            "  -0.04762666 -0.00304216 -0.04135424  0.0077909 ]\n",
            " [ 0.04343951 -0.04441161 -0.00095301  0.01611929 -0.02815726  0.01493584\n",
            "  -0.04762666 -0.00304216 -0.04135424  0.0077909 ]\n",
            " [ 0.04343951 -0.04441161 -0.00095301  0.01611929 -0.02815726  0.01493584\n",
            "  -0.04762666 -0.00304216 -0.04135424  0.0077909 ]\n",
            " [ 0.04343951 -0.04441161 -0.00095301  0.01611929 -0.02815726  0.01493584\n",
            "  -0.04762666 -0.00304216 -0.04135424  0.0077909 ]\n",
            " [-0.040658    0.03962423 -0.02337171  0.03919644 -0.00481651  0.03091986\n",
            "   0.00574694  0.03425269  0.02810467 -0.04578168]\n",
            " [-0.01433998 -0.00923745  0.02676913  0.04994356  0.0237918   0.012671\n",
            "   0.00460069  0.02211826  0.02205053 -0.01058496]\n",
            " [-0.01026317  0.01805801  0.00847073 -0.02628641  0.00089699 -0.00690592\n",
            "  -0.01349676 -0.04024022 -0.0476905   0.00981789]\n",
            " [ 0.02906803 -0.01190741  0.02638758  0.03803441 -0.00522809  0.04887475\n",
            "   0.0154914   0.01068635  0.00923014  0.03110406]]\n"
          ]
        }
      ]
    },
    {
      "cell_type": "code",
      "source": [],
      "metadata": {
        "id": "k6r3x-2pfMbl"
      },
      "execution_count": null,
      "outputs": []
    }
  ]
}